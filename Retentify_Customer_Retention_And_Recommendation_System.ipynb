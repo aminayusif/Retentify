{
  "nbformat": 4,
  "nbformat_minor": 0,
  "metadata": {
    "colab": {
      "provenance": [],
      "authorship_tag": "ABX9TyNmhoKaBg47FG+7GzdgpZEC",
      "include_colab_link": true
    },
    "kernelspec": {
      "name": "python3",
      "display_name": "Python 3"
    },
    "language_info": {
      "name": "python"
    }
  },
  "cells": [
    {
      "cell_type": "markdown",
      "metadata": {
        "id": "view-in-github",
        "colab_type": "text"
      },
      "source": [
        "<a href=\"https://colab.research.google.com/github/aminayusif/Retentify/blob/main/Retentify_Customer_Retention_And_Recommendation_System.ipynb\" target=\"_parent\"><img src=\"https://colab.research.google.com/assets/colab-badge.svg\" alt=\"Open In Colab\"/></a>"
      ]
    },
    {
      "cell_type": "markdown",
      "source": [
        "### Introduction"
      ],
      "metadata": {
        "id": "Ee9UQLSmYjlZ"
      }
    },
    {
      "cell_type": "markdown",
      "source": [
        "This notebook presents the development of **Retentify**, a comprehensive system designed to analyze telco customer churn and provide targeted recommendations for retention and value enhancement. Leveraging data analysis, machine learning, and customer segmentation techniques, Retentify aims to identify customers at risk of churning and suggest personalized interventions.\n",
        "\n",
        "The system is built in several stages:\n",
        "\n",
        "1.  **Data Loading and Preprocessing:** Initial loading of the telco customer churn dataset, followed by essential cleaning and preprocessing steps to handle missing values, correct data types, and standardize categorical features.\n",
        "2.  **Exploratory Data Analysis (EDA):** Conducting univariate and bivariate analysis, correlation analysis, and customer segmentation to gain insights into churn drivers and identify distinct customer groups.\n",
        "3.  **Feature Engineering:** Creating new features from the raw data to improve the performance of predictive models and enhance the understanding of customer behavior.\n",
        "4.  **Churn Prediction Model Development:** Building and evaluating machine learning models (Logistic Regression, Random Forest, XGBoost) to predict customer churn probability, including addressing class imbalance and hyperparameter tuning.\n",
        "5.  **Model Explainability and Rule Extraction:** Analyzing the trained churn model to understand the key factors influencing churn predictions using techniques like feature importance and SHAP values, and translating these insights into actionable business rules.\n",
        "6.  **Customer Segmentation:** Applying clustering techniques to group customers into distinct segments based on their characteristics and behavior.\n",
        "7.  **Recommendation System Design:** Developing a hybrid recommendation system that combines rule-based recommendations (derived from EDA and model explainability) and collaborative filtering (using matrix factorization) to provide personalized suggestions.\n",
        "8.  **API Development:** Creating a web API using FastAPI to serve the churn predictions and recommendations.\n",
        "\n",
        "Retentify provides a data-driven approach to proactively manage customer churn, allowing telco companies to implement targeted strategies to retain valuable customers and optimize their service offerings."
      ],
      "metadata": {
        "id": "y5v2k-EKY5P4"
      }
    },
    {
      "cell_type": "markdown",
      "source": [
        "### Data Loading and Preprocessing"
      ],
      "metadata": {
        "id": "oM1TDLLQ9TBp"
      }
    },
    {
      "cell_type": "code",
      "source": [
        "import pandas as pd\n",
        "\n",
        "# Load the dataset\n",
        "df = pd.read_csv('/content/WA_Fn-UseC_-Telco-Customer-Churn.csv')\n",
        "\n",
        "# Quick integrity checks\n",
        "df.head()\n",
        "df.info()\n",
        "df.describe()\n",
        "df.isna().sum()\n",
        "\n",
        "# Check for duplicates\n",
        "print(f\"Number of duplicate rows: {df.duplicated().sum()}\")\n",
        "\n",
        "# Check data types\n",
        "print(\"\\nData types:\\n\", df.dtypes)\n",
        "\n",
        "# Check for unexpected types (specifically TotalCharges)\n",
        "print(\"\\nUnique values in TotalCharges:\\n\", df['TotalCharges'].unique())"
      ],
      "metadata": {
        "colab": {
          "base_uri": "https://localhost:8080/"
        },
        "id": "6FF688ZV91Si",
        "outputId": "417ad6a3-ec22-4ac6-86ef-807fffd31eab"
      },
      "execution_count": 5,
      "outputs": [
        {
          "output_type": "stream",
          "name": "stdout",
          "text": [
            "<class 'pandas.core.frame.DataFrame'>\n",
            "RangeIndex: 7043 entries, 0 to 7042\n",
            "Data columns (total 21 columns):\n",
            " #   Column            Non-Null Count  Dtype  \n",
            "---  ------            --------------  -----  \n",
            " 0   customerID        7043 non-null   object \n",
            " 1   gender            7043 non-null   object \n",
            " 2   SeniorCitizen     7043 non-null   int64  \n",
            " 3   Partner           7043 non-null   object \n",
            " 4   Dependents        7043 non-null   object \n",
            " 5   tenure            7043 non-null   int64  \n",
            " 6   PhoneService      7043 non-null   object \n",
            " 7   MultipleLines     7043 non-null   object \n",
            " 8   InternetService   7043 non-null   object \n",
            " 9   OnlineSecurity    7043 non-null   object \n",
            " 10  OnlineBackup      7043 non-null   object \n",
            " 11  DeviceProtection  7043 non-null   object \n",
            " 12  TechSupport       7043 non-null   object \n",
            " 13  StreamingTV       7043 non-null   object \n",
            " 14  StreamingMovies   7043 non-null   object \n",
            " 15  Contract          7043 non-null   object \n",
            " 16  PaperlessBilling  7043 non-null   object \n",
            " 17  PaymentMethod     7043 non-null   object \n",
            " 18  MonthlyCharges    7043 non-null   float64\n",
            " 19  TotalCharges      7043 non-null   object \n",
            " 20  Churn             7043 non-null   object \n",
            "dtypes: float64(1), int64(2), object(18)\n",
            "memory usage: 1.1+ MB\n",
            "Number of duplicate rows: 0\n",
            "\n",
            "Data types:\n",
            " customerID           object\n",
            "gender               object\n",
            "SeniorCitizen         int64\n",
            "Partner              object\n",
            "Dependents           object\n",
            "tenure                int64\n",
            "PhoneService         object\n",
            "MultipleLines        object\n",
            "InternetService      object\n",
            "OnlineSecurity       object\n",
            "OnlineBackup         object\n",
            "DeviceProtection     object\n",
            "TechSupport          object\n",
            "StreamingTV          object\n",
            "StreamingMovies      object\n",
            "Contract             object\n",
            "PaperlessBilling     object\n",
            "PaymentMethod        object\n",
            "MonthlyCharges      float64\n",
            "TotalCharges         object\n",
            "Churn                object\n",
            "dtype: object\n",
            "\n",
            "Unique values in TotalCharges:\n",
            " ['29.85' '1889.5' '108.15' ... '346.45' '306.6' '6844.5']\n"
          ]
        }
      ]
    },
    {
      "cell_type": "markdown",
      "source": [
        "#### Fix data types"
      ],
      "metadata": {
        "id": "q3uYDsy9A28w"
      }
    },
    {
      "cell_type": "code",
      "source": [
        "# Convert 'TotalCharges' to numeric, coercing errors to NaN\n",
        "df['TotalCharges'] = pd.to_numeric(df['TotalCharges'], errors='coerce')\n",
        "\n",
        "# Fill NaN values resulting from the conversion (empty strings) with 0\n",
        "df['TotalCharges'] = df['TotalCharges'].fillna(0)\n",
        "\n",
        "# Check data types again to confirm the change\n",
        "print(\"\\nData types after converting TotalCharges:\\n\", df.dtypes)\n",
        "\n",
        "# Convert the 'SeniorCitizen' column to boolean\n",
        "df['SeniorCitizen'] = df['SeniorCitizen'].astype(bool)\n",
        "\n",
        "# Check unique values for object type columns (excluding customerID)\n",
        "for col in df.select_dtypes(include='object').columns:\n",
        "    if col != 'customerID':\n",
        "        print(f\"\\nUnique values in {col}:\\n{df[col].unique()}\")"
      ],
      "metadata": {
        "colab": {
          "base_uri": "https://localhost:8080/"
        },
        "id": "YiDQYHftAi6F",
        "outputId": "882ebc84-b64f-46f6-890e-e1dd61bb9c31"
      },
      "execution_count": 6,
      "outputs": [
        {
          "output_type": "stream",
          "name": "stdout",
          "text": [
            "\n",
            "Data types after converting TotalCharges:\n",
            " customerID           object\n",
            "gender               object\n",
            "SeniorCitizen         int64\n",
            "Partner              object\n",
            "Dependents           object\n",
            "tenure                int64\n",
            "PhoneService         object\n",
            "MultipleLines        object\n",
            "InternetService      object\n",
            "OnlineSecurity       object\n",
            "OnlineBackup         object\n",
            "DeviceProtection     object\n",
            "TechSupport          object\n",
            "StreamingTV          object\n",
            "StreamingMovies      object\n",
            "Contract             object\n",
            "PaperlessBilling     object\n",
            "PaymentMethod        object\n",
            "MonthlyCharges      float64\n",
            "TotalCharges        float64\n",
            "Churn                object\n",
            "dtype: object\n",
            "\n",
            "Unique values in gender:\n",
            "['Female' 'Male']\n",
            "\n",
            "Unique values in Partner:\n",
            "['Yes' 'No']\n",
            "\n",
            "Unique values in Dependents:\n",
            "['No' 'Yes']\n",
            "\n",
            "Unique values in PhoneService:\n",
            "['No' 'Yes']\n",
            "\n",
            "Unique values in MultipleLines:\n",
            "['No phone service' 'No' 'Yes']\n",
            "\n",
            "Unique values in InternetService:\n",
            "['DSL' 'Fiber optic' 'No']\n",
            "\n",
            "Unique values in OnlineSecurity:\n",
            "['No' 'Yes' 'No internet service']\n",
            "\n",
            "Unique values in OnlineBackup:\n",
            "['Yes' 'No' 'No internet service']\n",
            "\n",
            "Unique values in DeviceProtection:\n",
            "['No' 'Yes' 'No internet service']\n",
            "\n",
            "Unique values in TechSupport:\n",
            "['No' 'Yes' 'No internet service']\n",
            "\n",
            "Unique values in StreamingTV:\n",
            "['No' 'Yes' 'No internet service']\n",
            "\n",
            "Unique values in StreamingMovies:\n",
            "['No' 'Yes' 'No internet service']\n",
            "\n",
            "Unique values in Contract:\n",
            "['Month-to-month' 'One year' 'Two year']\n",
            "\n",
            "Unique values in PaperlessBilling:\n",
            "['Yes' 'No']\n",
            "\n",
            "Unique values in PaymentMethod:\n",
            "['Electronic check' 'Mailed check' 'Bank transfer (automatic)'\n",
            " 'Credit card (automatic)']\n",
            "\n",
            "Unique values in Churn:\n",
            "['No' 'Yes']\n"
          ]
        }
      ]
    },
    {
      "cell_type": "markdown",
      "source": [
        "#### Handle missing values"
      ],
      "metadata": {
        "id": "SoAs8_RYPvEe"
      }
    },
    {
      "cell_type": "code",
      "source": [
        "df.isnull().sum()"
      ],
      "metadata": {
        "colab": {
          "base_uri": "https://localhost:8080/",
          "height": 743
        },
        "id": "o71nVhn8P4Sc",
        "outputId": "3bfef043-0181-4bec-ae7f-3798293872bf"
      },
      "execution_count": 7,
      "outputs": [
        {
          "output_type": "execute_result",
          "data": {
            "text/plain": [
              "customerID          0\n",
              "gender              0\n",
              "SeniorCitizen       0\n",
              "Partner             0\n",
              "Dependents          0\n",
              "tenure              0\n",
              "PhoneService        0\n",
              "MultipleLines       0\n",
              "InternetService     0\n",
              "OnlineSecurity      0\n",
              "OnlineBackup        0\n",
              "DeviceProtection    0\n",
              "TechSupport         0\n",
              "StreamingTV         0\n",
              "StreamingMovies     0\n",
              "Contract            0\n",
              "PaperlessBilling    0\n",
              "PaymentMethod       0\n",
              "MonthlyCharges      0\n",
              "TotalCharges        0\n",
              "Churn               0\n",
              "dtype: int64"
            ],
            "text/html": [
              "<div>\n",
              "<style scoped>\n",
              "    .dataframe tbody tr th:only-of-type {\n",
              "        vertical-align: middle;\n",
              "    }\n",
              "\n",
              "    .dataframe tbody tr th {\n",
              "        vertical-align: top;\n",
              "    }\n",
              "\n",
              "    .dataframe thead th {\n",
              "        text-align: right;\n",
              "    }\n",
              "</style>\n",
              "<table border=\"1\" class=\"dataframe\">\n",
              "  <thead>\n",
              "    <tr style=\"text-align: right;\">\n",
              "      <th></th>\n",
              "      <th>0</th>\n",
              "    </tr>\n",
              "  </thead>\n",
              "  <tbody>\n",
              "    <tr>\n",
              "      <th>customerID</th>\n",
              "      <td>0</td>\n",
              "    </tr>\n",
              "    <tr>\n",
              "      <th>gender</th>\n",
              "      <td>0</td>\n",
              "    </tr>\n",
              "    <tr>\n",
              "      <th>SeniorCitizen</th>\n",
              "      <td>0</td>\n",
              "    </tr>\n",
              "    <tr>\n",
              "      <th>Partner</th>\n",
              "      <td>0</td>\n",
              "    </tr>\n",
              "    <tr>\n",
              "      <th>Dependents</th>\n",
              "      <td>0</td>\n",
              "    </tr>\n",
              "    <tr>\n",
              "      <th>tenure</th>\n",
              "      <td>0</td>\n",
              "    </tr>\n",
              "    <tr>\n",
              "      <th>PhoneService</th>\n",
              "      <td>0</td>\n",
              "    </tr>\n",
              "    <tr>\n",
              "      <th>MultipleLines</th>\n",
              "      <td>0</td>\n",
              "    </tr>\n",
              "    <tr>\n",
              "      <th>InternetService</th>\n",
              "      <td>0</td>\n",
              "    </tr>\n",
              "    <tr>\n",
              "      <th>OnlineSecurity</th>\n",
              "      <td>0</td>\n",
              "    </tr>\n",
              "    <tr>\n",
              "      <th>OnlineBackup</th>\n",
              "      <td>0</td>\n",
              "    </tr>\n",
              "    <tr>\n",
              "      <th>DeviceProtection</th>\n",
              "      <td>0</td>\n",
              "    </tr>\n",
              "    <tr>\n",
              "      <th>TechSupport</th>\n",
              "      <td>0</td>\n",
              "    </tr>\n",
              "    <tr>\n",
              "      <th>StreamingTV</th>\n",
              "      <td>0</td>\n",
              "    </tr>\n",
              "    <tr>\n",
              "      <th>StreamingMovies</th>\n",
              "      <td>0</td>\n",
              "    </tr>\n",
              "    <tr>\n",
              "      <th>Contract</th>\n",
              "      <td>0</td>\n",
              "    </tr>\n",
              "    <tr>\n",
              "      <th>PaperlessBilling</th>\n",
              "      <td>0</td>\n",
              "    </tr>\n",
              "    <tr>\n",
              "      <th>PaymentMethod</th>\n",
              "      <td>0</td>\n",
              "    </tr>\n",
              "    <tr>\n",
              "      <th>MonthlyCharges</th>\n",
              "      <td>0</td>\n",
              "    </tr>\n",
              "    <tr>\n",
              "      <th>TotalCharges</th>\n",
              "      <td>0</td>\n",
              "    </tr>\n",
              "    <tr>\n",
              "      <th>Churn</th>\n",
              "      <td>0</td>\n",
              "    </tr>\n",
              "  </tbody>\n",
              "</table>\n",
              "</div><br><label><b>dtype:</b> int64</label>"
            ]
          },
          "metadata": {},
          "execution_count": 7
        }
      ]
    },
    {
      "cell_type": "markdown",
      "source": [
        "#### Standardize categorical features"
      ],
      "metadata": {
        "id": "GQNEYePgQZ8o"
      }
    },
    {
      "cell_type": "code",
      "source": [
        "# Identify object columns to standardize (excluding customerID)\n",
        "cols_to_standardize = [col for col in df.select_dtypes(include='object').columns if col != 'customerID']\n",
        "\n",
        "# Iterate through the identified columns and standardize values\n",
        "for col in cols_to_standardize:\n",
        "    if 'No internet service' in df[col].unique() or 'No phone service' in df[col].unique():\n",
        "        print(f\"Standardizing column: {col}\")\n",
        "        df[col] = df[col].replace(['No internet service', 'No phone service'], 'No')\n",
        "\n",
        "# Verify the changes by printing unique values of the modified columns\n",
        "for col in cols_to_standardize:\n",
        "    if 'No internet service' not in df[col].unique() and 'No phone service' not in df[col].unique():\n",
        "        print(f\"\\nUnique values in {col} after standardization:\\n{df[col].unique()}\")"
      ],
      "metadata": {
        "colab": {
          "base_uri": "https://localhost:8080/"
        },
        "id": "JSolL300QdIX",
        "outputId": "b9bc84d2-3b0f-4f15-ca13-f15f1bad220a"
      },
      "execution_count": 8,
      "outputs": [
        {
          "output_type": "stream",
          "name": "stdout",
          "text": [
            "Standardizing column: MultipleLines\n",
            "Standardizing column: OnlineSecurity\n",
            "Standardizing column: OnlineBackup\n",
            "Standardizing column: DeviceProtection\n",
            "Standardizing column: TechSupport\n",
            "Standardizing column: StreamingTV\n",
            "Standardizing column: StreamingMovies\n",
            "\n",
            "Unique values in gender after standardization:\n",
            "['Female' 'Male']\n",
            "\n",
            "Unique values in Partner after standardization:\n",
            "['Yes' 'No']\n",
            "\n",
            "Unique values in Dependents after standardization:\n",
            "['No' 'Yes']\n",
            "\n",
            "Unique values in PhoneService after standardization:\n",
            "['No' 'Yes']\n",
            "\n",
            "Unique values in MultipleLines after standardization:\n",
            "['No' 'Yes']\n",
            "\n",
            "Unique values in InternetService after standardization:\n",
            "['DSL' 'Fiber optic' 'No']\n",
            "\n",
            "Unique values in OnlineSecurity after standardization:\n",
            "['No' 'Yes']\n",
            "\n",
            "Unique values in OnlineBackup after standardization:\n",
            "['Yes' 'No']\n",
            "\n",
            "Unique values in DeviceProtection after standardization:\n",
            "['No' 'Yes']\n",
            "\n",
            "Unique values in TechSupport after standardization:\n",
            "['No' 'Yes']\n",
            "\n",
            "Unique values in StreamingTV after standardization:\n",
            "['No' 'Yes']\n",
            "\n",
            "Unique values in StreamingMovies after standardization:\n",
            "['No' 'Yes']\n",
            "\n",
            "Unique values in Contract after standardization:\n",
            "['Month-to-month' 'One year' 'Two year']\n",
            "\n",
            "Unique values in PaperlessBilling after standardization:\n",
            "['Yes' 'No']\n",
            "\n",
            "Unique values in PaymentMethod after standardization:\n",
            "['Electronic check' 'Mailed check' 'Bank transfer (automatic)'\n",
            " 'Credit card (automatic)']\n",
            "\n",
            "Unique values in Churn after standardization:\n",
            "['No' 'Yes']\n"
          ]
        }
      ]
    },
    {
      "cell_type": "markdown",
      "source": [
        "#### Create target variable\n",
        "\n"
      ],
      "metadata": {
        "id": "EVU1IGnNQw6E"
      }
    },
    {
      "cell_type": "markdown",
      "source": [
        "Map 'Yes'/'No' in the 'Churn' column to 1/0."
      ],
      "metadata": {
        "id": "oESMX8ZlRUFu"
      }
    },
    {
      "cell_type": "code",
      "source": [
        "df['Churn'] = df['Churn'].map({'Yes': 1, 'No': 0})\n",
        "print(\"\\nValue counts after mapping 'Churn':\\n\", df['Churn'].value_counts())"
      ],
      "metadata": {
        "colab": {
          "base_uri": "https://localhost:8080/"
        },
        "id": "0wMk0tyARdln",
        "outputId": "63aa259b-27ca-4cf0-f7d8-dc608ce9d250"
      },
      "execution_count": 9,
      "outputs": [
        {
          "output_type": "stream",
          "name": "stdout",
          "text": [
            "\n",
            "Value counts after mapping 'Churn':\n",
            " Churn\n",
            "0    5174\n",
            "1    1869\n",
            "Name: count, dtype: int64\n"
          ]
        }
      ]
    }
  ]
}